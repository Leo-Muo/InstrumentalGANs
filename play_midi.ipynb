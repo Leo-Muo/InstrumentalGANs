{
 "cells": [
  {
   "cell_type": "code",
   "execution_count": 1,
   "metadata": {},
   "outputs": [
    {
     "name": "stdout",
     "output_type": "stream",
     "text": [
      "pygame 2.5.2 (SDL 2.28.2, Python 3.10.12)\n",
      "Hello from the pygame community. https://www.pygame.org/contribute.html\n"
     ]
    }
   ],
   "source": [
    "import pygame\n",
    "import time"
   ]
  },
  {
   "cell_type": "code",
   "execution_count": 2,
   "metadata": {},
   "outputs": [],
   "source": [
    "def play_midi(filename):\n",
    "    pygame.init()\n",
    "    pygame.mixer.init()\n",
    "    pygame.mixer.music.load(filename)\n",
    "    pygame.mixer.music.play()\n",
    "    while pygame.mixer.music.get_busy():\n",
    "        pygame.time.Clock().tick(30) "
   ]
  },
  {
   "cell_type": "code",
   "execution_count": 5,
   "metadata": {},
   "outputs": [
    {
     "name": "stderr",
     "output_type": "stream",
     "text": [
      "fluidsynth: warning: Instrument not found on channel 9 [bank=128 prog=109], substituted [bank=128 prog=0]\n",
      "fluidsynth: warning: Instrument not found on channel 9 [bank=128 prog=53], substituted [bank=128 prog=0]\n",
      "fluidsynth: warning: Instrument not found on channel 9 [bank=128 prog=26], substituted [bank=128 prog=0]\n",
      "fluidsynth: warning: Instrument not found on channel 9 [bank=128 prog=109], substituted [bank=128 prog=0]\n"
     ]
    }
   ],
   "source": [
    "midi_file_path = \"generated_music.mid\"\n",
    "play_midi(midi_file_path)"
   ]
  },
  {
   "cell_type": "code",
   "execution_count": null,
   "metadata": {},
   "outputs": [],
   "source": [
    "import pretty_midi\n",
    "from midi2audio import FluidSynth\n",
    "from pydub import AudioSegment\n",
    "from pydub.effects import normalize\n",
    "\n",
    "# Load and process MIDI\n",
    "midi_data = pretty_midi.PrettyMIDI('generated_music.mid')\n",
    "\n",
    "# Convert MIDI to audio using FluidSynth\n",
    "fs = FluidSynth('soundfont.sf2')\n",
    "fs.midi_to_audio('generated_music.mid', 'output_audio_file.wav')\n",
    "\n",
    "# Load the generated audio\n",
    "audio = AudioSegment.from_file('output_audio_file.wav')\n",
    "\n",
    "# Apply normalization\n",
    "normalized_audio = normalize(audio)\n",
    "\n",
    "# Export the final processed audio\n",
    "normalized_audio.export('final_audio_file.wav', format='wav')\n"
   ]
  }
 ],
 "metadata": {
  "kernelspec": {
   "display_name": "Python 3",
   "language": "python",
   "name": "python3"
  },
  "language_info": {
   "codemirror_mode": {
    "name": "ipython",
    "version": 3
   },
   "file_extension": ".py",
   "mimetype": "text/x-python",
   "name": "python",
   "nbconvert_exporter": "python",
   "pygments_lexer": "ipython3",
   "version": "3.10.12"
  }
 },
 "nbformat": 4,
 "nbformat_minor": 2
}
